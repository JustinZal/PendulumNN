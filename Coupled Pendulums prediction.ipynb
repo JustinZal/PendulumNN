{
 "cells": [
  {
   "cell_type": "code",
   "execution_count": 2,
   "id": "c522735c",
   "metadata": {},
   "outputs": [],
   "source": [
    "from scipy.integrate import odeint\n",
    "import numpy as np\n",
    "import matplotlib.pyplot as plt\n",
    "from random import shuffle, seed\n",
    "\n",
    "from echo_state_network import ESN"
   ]
  },
  {
   "cell_type": "markdown",
   "id": "ec490992",
   "metadata": {},
   "source": [
    "Equation for the first pendulum: $L\\ddot{\\theta_{1}} = -gsin(\\theta_{1}) - kL(sin(\\theta_{1}) - sin(\\theta_{2}))$"
   ]
  },
  {
   "cell_type": "markdown",
   "id": "6902b9ee",
   "metadata": {},
   "source": [
    "Equation for the second pendulum: $L\\ddot{\\theta_{1}} = -gsin(\\theta_{2}) + kL(sin(\\theta_{1}) - sin(\\theta_{2}))$"
   ]
  },
  {
   "cell_type": "markdown",
   "id": "4db0102b",
   "metadata": {},
   "source": [
    "# Equation independent of the second angle to get started"
   ]
  },
  {
   "cell_type": "code",
   "execution_count": null,
   "id": "2e2967eb",
   "metadata": {},
   "outputs": [],
   "source": [
    "def coupled_pendulum(u, t):\n",
    "    #Should return y', y''\n",
    "    # angle'' = -g/l * sin(angle) - damping * radius / mass * angle'\n",
    "    \n",
    "    return (u[1], -9.81 * np.sin(u[0]) - 4 * 0.8 / 10 * u[1]):\n",
    "    "
   ]
  }
 ],
 "metadata": {
  "kernelspec": {
   "display_name": "Python 3",
   "language": "python",
   "name": "python3"
  },
  "language_info": {
   "codemirror_mode": {
    "name": "ipython",
    "version": 3
   },
   "file_extension": ".py",
   "mimetype": "text/x-python",
   "name": "python",
   "nbconvert_exporter": "python",
   "pygments_lexer": "ipython3",
   "version": "3.8.10"
  }
 },
 "nbformat": 4,
 "nbformat_minor": 5
}
